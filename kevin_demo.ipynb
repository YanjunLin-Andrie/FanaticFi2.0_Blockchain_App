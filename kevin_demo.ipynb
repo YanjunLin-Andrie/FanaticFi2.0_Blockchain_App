{
 "cells": [
  {
   "cell_type": "code",
   "execution_count": 42,
   "id": "812b2980-e092-4a7e-8bc1-734cc4c6efa0",
   "metadata": {},
   "outputs": [],
   "source": [
    "from web3 import Web3\n",
    "import json"
   ]
  },
  {
   "cell_type": "code",
   "execution_count": 44,
   "id": "7e8e6010-8186-4e5a-b088-c1445633f2b9",
   "metadata": {},
   "outputs": [],
   "source": [
    "# replace with your own\n",
    "\n",
    "crowdsale_contract_address='0x266eFddBaB50583eF717754AF184A01AEbA6BC9E'\n",
    "token_contract_address='0x3161abdD735c3ba1af6e6bfb148442b8c22F9Fe9'"
   ]
  },
  {
   "cell_type": "code",
   "execution_count": 45,
   "id": "3e025dc1-1427-4bc1-9264-f2bb5e0edfec",
   "metadata": {},
   "outputs": [],
   "source": [
    "ganache=Web3.HTTPProvider('HTTP://127.0.0.1:7545')\n",
    "w3=Web3(ganache)"
   ]
  },
  {
   "cell_type": "code",
   "execution_count": 46,
   "id": "9bd4d41a-1c94-44ff-a507-f26a0b4f1717",
   "metadata": {},
   "outputs": [],
   "source": [
    "with open('abi_files/BillGates_Crowdsale_abi.json') as f: \n",
    "    crowdsale_abi=json.load(f)\n",
    "with open('abi_files/BillGates_abi.json') as f: \n",
    "    token_abi=json.load(f)"
   ]
  },
  {
   "cell_type": "code",
   "execution_count": 47,
   "id": "e3cfa6cb-0fed-488f-b1e9-5e54d1636bc9",
   "metadata": {},
   "outputs": [],
   "source": [
    "crowdsale_contract=w3.eth.contract(crowdsale_contract_address, abi=crowdsale_abi)\n",
    "token_contract=w3.eth.contract(token_contract_address, abi=token_abi)"
   ]
  },
  {
   "cell_type": "code",
   "execution_count": 48,
   "id": "e7cdbc8e-0ae4-4c25-a558-30ab640c34be",
   "metadata": {},
   "outputs": [
    {
     "data": {
      "text/plain": [
       "666666"
      ]
     },
     "execution_count": 48,
     "metadata": {},
     "output_type": "execute_result"
    }
   ],
   "source": [
    "crowdsale_contract.functions.cap().call()"
   ]
  },
  {
   "cell_type": "code",
   "execution_count": 49,
   "id": "b8218a37-b10b-4b81-a6af-fe8a82490262",
   "metadata": {},
   "outputs": [
    {
     "data": {
      "text/plain": [
       "0"
      ]
     },
     "execution_count": 49,
     "metadata": {},
     "output_type": "execute_result"
    }
   ],
   "source": [
    "token_contract.functions.totalSupply().call()"
   ]
  },
  {
   "cell_type": "code",
   "execution_count": 50,
   "id": "33084c2f-d183-40fe-9bd5-15a01a037f02",
   "metadata": {},
   "outputs": [],
   "source": [
    "# initially 0 have been minted/bought"
   ]
  },
  {
   "cell_type": "code",
   "execution_count": 51,
   "id": "b59911a0-508d-4fef-9b8f-ebe17891ea1a",
   "metadata": {},
   "outputs": [],
   "source": [
    "sender='0xEDB1420569665b9C7ab4C7e1744483a6d7034000'\n",
    "private_key='99ac0cece8b8b96a14a82790be6d67a08e43c9bc1f407dc31ae4c57cf231cdb1'\n",
    "\n",
    "# set beneficiary same as sender/investor\n",
    "beneficiary=sender"
   ]
  },
  {
   "cell_type": "code",
   "execution_count": 52,
   "id": "d225f037-f508-46e9-a5a9-25863d3b9769",
   "metadata": {},
   "outputs": [],
   "source": [
    "txn={'value': 1000, \n",
    "    'gasPrice': w3.eth.gas_price, \n",
    "    'nonce': w3.eth.get_transaction_count(sender), \n",
    "    'from': sender}"
   ]
  },
  {
   "cell_type": "code",
   "execution_count": 53,
   "id": "56bfca68-2730-4f74-b3a8-aa1f38fce7e7",
   "metadata": {},
   "outputs": [],
   "source": [
    "raw_txn=crowdsale_contract.functions.buyTokens(beneficiary).buildTransaction(txn)"
   ]
  },
  {
   "cell_type": "code",
   "execution_count": 54,
   "id": "c20b0b29-ffdb-41eb-ae89-58019b563c50",
   "metadata": {},
   "outputs": [
    {
     "data": {
      "text/plain": [
       "HexBytes('0xeae78d0a9755d03a6c3235c6db98a0187edc33c565c2447fe4c3d6604efc45fd')"
      ]
     },
     "execution_count": 54,
     "metadata": {},
     "output_type": "execute_result"
    }
   ],
   "source": [
    "signed_txn=w3.eth.account.signTransaction(raw_txn, private_key='99ac0cece8b8b96a14a82790be6d67a08e43c9bc1f407dc31ae4c57cf231cdb1')\n",
    "w3.eth.sendRawTransaction(signed_txn.rawTransaction)"
   ]
  },
  {
   "cell_type": "code",
   "execution_count": 55,
   "id": "86acbff0-4acf-4556-84c3-14b58f135a56",
   "metadata": {},
   "outputs": [
    {
     "data": {
      "text/plain": [
       "666666"
      ]
     },
     "execution_count": 55,
     "metadata": {},
     "output_type": "execute_result"
    }
   ],
   "source": [
    "crowdsale_contract.functions.cap().call()"
   ]
  },
  {
   "cell_type": "code",
   "execution_count": 56,
   "id": "06202867-2df4-4a3e-a5cb-ca1258121d9d",
   "metadata": {},
   "outputs": [
    {
     "data": {
      "text/plain": [
       "1000"
      ]
     },
     "execution_count": 56,
     "metadata": {},
     "output_type": "execute_result"
    }
   ],
   "source": [
    "token_contract.functions.totalSupply().call()"
   ]
  },
  {
   "cell_type": "code",
   "execution_count": null,
   "id": "03c017e1-57f2-4ec4-9e25-1063ce3d3e31",
   "metadata": {},
   "outputs": [],
   "source": [
    "# new tokens minted/bought"
   ]
  }
 ],
 "metadata": {
  "kernelspec": {
   "display_name": "Python 3 (ipykernel)",
   "language": "python",
   "name": "python3"
  },
  "language_info": {
   "codemirror_mode": {
    "name": "ipython",
    "version": 3
   },
   "file_extension": ".py",
   "mimetype": "text/x-python",
   "name": "python",
   "nbconvert_exporter": "python",
   "pygments_lexer": "ipython3",
   "version": "3.7.11"
  }
 },
 "nbformat": 4,
 "nbformat_minor": 5
}
